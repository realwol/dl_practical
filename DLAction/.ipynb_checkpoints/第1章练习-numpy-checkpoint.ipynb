{
 "cells": [
  {
   "cell_type": "markdown",
   "metadata": {},
   "source": [
    "## 介绍\n",
    "python是一种非常简单易学的解释性语言。由于强大的开源库支持(numpy,scipy,matplotlib)，其广泛应用于科学计算中。如果你励志成为一名数据科学家或数据“攻城狮”，那python就是你必须学会的工具之一。接下来我们将简短的介绍下python, numpy, matplotlib的使用。本章教程内容主要参考于斯坦福大学cs228课程的python教程，详情可使用该网址查看 https://github.com/kuleshov/cs228-material/blob/master/tutorials/python/cs228-python-tutorial.ipynb "
   ]
  },
  {
   "cell_type": "markdown",
   "metadata": {},
   "source": [
    "在本章中，你将逐步学习以下内容：\n",
    "* Python基本使用: 基本数据类型(Containers, Lists, Dictionaries, Sets, Tuples), 函数, 类\n",
    "* Numpy: 数组, 数组索引, 数据类型,数组运算, 广播\n",
    "* Matplotlib: Plotting, Subplots, Images"
   ]
  },
  {
   "cell_type": "markdown",
   "metadata": {},
   "source": [
    "## Python基本用法"
   ]
  },
  {
   "cell_type": "markdown",
   "metadata": {},
   "source": [
    "Python是一种面向对象的解释型高级编程语言。很多时候，由于其代码具有高可读性，且只需要数行代码就可以表达复杂的功能，Python看起来简直和伪代码一样。如下所示，为Python实现经典的快速排序算法例子："
   ]
  },
  {
   "cell_type": "code",
   "execution_count": null,
   "metadata": {
    "collapsed": false
   },
   "outputs": [],
   "source": [
    "def quicksort(arr):\n",
    "    if len(arr) <= 1:\n",
    "        return arr\n",
    "    pivot = arr[len(arr) / 2]\n",
    "    left = [x for x in arr if x < pivot]\n",
    "    middle = [x for x in arr if x == pivot]\n",
    "    right = [x for x in arr if x > pivot]\n",
    "    return quicksort(left) + middle + quicksort(right)\n",
    "\n",
    "print quicksort([3,6,8,10,1,2,1])"
   ]
  },
  {
   "cell_type": "markdown",
   "metadata": {},
   "source": [
    "### Python 版本"
   ]
  },
  {
   "cell_type": "markdown",
   "metadata": {},
   "source": [
    "Python有两个差异较大的版本，分别是2.7+和3.4+。由于在3.0版本和2.7版本语言不兼容，因此2.7下的代码有时候在3.4下是行不通的。本教程中，我们使用的是2.7版本。你可以使用python --version命令。查看你所下载的python版本，确保你的python版本符合我们的教程需求。"
   ]
  },
  {
   "cell_type": "markdown",
   "metadata": {},
   "source": [
    "### 基本数据类型\n",
    "和大多数编程语言一样，Python拥有一系列的基本数据类型，比如整型、浮点型、布尔型和字符串等。这些基本数据类型的使用方式和其他语言的使用方式类似。"
   ]
  },
  {
   "cell_type": "markdown",
   "metadata": {},
   "source": [
    "#### 整型和浮点型"
   ]
  },
  {
   "cell_type": "code",
   "execution_count": null,
   "metadata": {
    "collapsed": false,
    "scrolled": true
   },
   "outputs": [],
   "source": [
    "x = 3\n",
    "print x, type(x)"
   ]
  },
  {
   "cell_type": "code",
   "execution_count": null,
   "metadata": {
    "collapsed": false
   },
   "outputs": [],
   "source": [
    "print x + 1   # 加;\n",
    "print x - 1   # 减;\n",
    "print x * 2   # 乘;\n",
    "print x ** 2  # 幂乘;"
   ]
  },
  {
   "cell_type": "code",
   "execution_count": null,
   "metadata": {
    "collapsed": false
   },
   "outputs": [],
   "source": [
    "x += 1\n",
    "print x  # 打印 \"4\"\n",
    "x *= 2\n",
    "print x  # 打印 \"8\""
   ]
  },
  {
   "cell_type": "code",
   "execution_count": null,
   "metadata": {
    "collapsed": false
   },
   "outputs": [],
   "source": [
    "y = 2.5\n",
    "print type(y) # 打印 \"<type 'float'>\"\n",
    "print y, y + 1, y * 2, y ** 2 # 打印 \"2.5 3.5 5.0 6.25\""
   ]
  },
  {
   "cell_type": "code",
   "execution_count": null,
   "metadata": {
    "collapsed": false
   },
   "outputs": [],
   "source": [
    "#python不支持 (x++) 或(x--) 运算.\n",
    "print y++"
   ]
  },
  {
   "cell_type": "markdown",
   "metadata": {},
   "source": [
    "#### 布尔型\n",
    "Python实现了所有的布尔逻辑，但使用的是英语单词(\"and\",\"or\",\"not\")等，而不是我们习惯的操作符（\"&&\",\"||\"等）。"
   ]
  },
  {
   "cell_type": "code",
   "execution_count": null,
   "metadata": {
    "collapsed": false
   },
   "outputs": [],
   "source": [
    "t, f = True, False\n",
    "print type(t) # 打印 \"<type 'bool'>\""
   ]
  },
  {
   "cell_type": "markdown",
   "metadata": {},
   "source": [
    "逻辑运算:"
   ]
  },
  {
   "cell_type": "code",
   "execution_count": null,
   "metadata": {
    "collapsed": false
   },
   "outputs": [],
   "source": [
    "print t and f # 逻辑 AND;\n",
    "print t or f  # 逻辑 OR;\n",
    "print not t   # 逻辑 NOT;\n",
    "print t != f  # 逻辑 XOR;"
   ]
  },
  {
   "cell_type": "markdown",
   "metadata": {},
   "source": [
    "#### 字符串"
   ]
  },
  {
   "cell_type": "code",
   "execution_count": null,
   "metadata": {
    "collapsed": false
   },
   "outputs": [],
   "source": [
    "hello = 'hello'   # 字符串可以使用单引号\n",
    "world = \"world\"   # 也可以使用双引号\n",
    "print hello, len(hello),world"
   ]
  },
  {
   "cell_type": "code",
   "execution_count": null,
   "metadata": {
    "collapsed": false
   },
   "outputs": [],
   "source": [
    "hw = hello + ' ' + world  # 字符串拼接\n",
    "print hw  # 打印 \"hello world\""
   ]
  },
  {
   "cell_type": "code",
   "execution_count": null,
   "metadata": {
    "collapsed": false
   },
   "outputs": [],
   "source": [
    "hw12 = '%s %s %d' % (hello, world, 12)  # 按格式输出\n",
    "print hw12  # 打印 \"hello world 12\""
   ]
  },
  {
   "cell_type": "markdown",
   "metadata": {},
   "source": [
    "你也可以将字符串当作是一个对象，其有大量的方法。例如："
   ]
  },
  {
   "cell_type": "code",
   "execution_count": null,
   "metadata": {
    "collapsed": false
   },
   "outputs": [],
   "source": [
    "s = \"hello\"\n",
    "print s.capitalize()  # 将字符串首字母大写; 打印 \"Hello\"\n",
    "print s.upper()       # 将字符串转换成大写; 打印 \"HELLO\"\n",
    "print s.rjust(7)      # 字符串向右对齐, 使用空格进行站位; 打印 \"  hello\"\n",
    "print s.center(7)     # 字符串居中, 使用空格对左右进行站位; 打印 \" hello \"\n",
    "print s.replace('l', '(ell)')  # 使用子串代替规定处字符\n",
    "                               # 打印 \"he(ell)(ell)o\"\n",
    "print '   wo  rld '.strip()  # 删除空白字符（开头或结尾）; 打印 \"wor  ld\""
   ]
  },
  {
   "cell_type": "markdown",
   "metadata": {},
   "source": [
    "更多字符串操作请参考以下网址 (https://docs.python.org/2/library/stdtypes.html#string-methods)."
   ]
  },
  {
   "cell_type": "markdown",
   "metadata": {},
   "source": [
    "### 容器\n",
    "Python有以下几种容器类型：列表（lists）、字典（dictionaries）、集合（sets）和元组（tuples）。"
   ]
  },
  {
   "cell_type": "markdown",
   "metadata": {},
   "source": [
    "#### 列表(Lists)\n",
    "在Python中，列表相当于数组，但是列表长度可变，且能包含不同类型元素。"
   ]
  },
  {
   "cell_type": "code",
   "execution_count": null,
   "metadata": {
    "collapsed": false
   },
   "outputs": [],
   "source": [
    "xs = [3, 1, 2]   # 创建列表\n",
    "print xs, xs[2]\n",
    "print xs[-1]     #负值索引相当于从列表的末端进行反向索引; 打印 \"2\""
   ]
  },
  {
   "cell_type": "code",
   "execution_count": null,
   "metadata": {
    "collapsed": false
   },
   "outputs": [],
   "source": [
    "xs[2] = 'foo'    # 列表可以包含不同的元素\n",
    "print xs"
   ]
  },
  {
   "cell_type": "code",
   "execution_count": null,
   "metadata": {
    "collapsed": false
   },
   "outputs": [],
   "source": [
    "xs.append('bar') # 添加新元素到列表末端\n",
    "print xs  "
   ]
  },
  {
   "cell_type": "code",
   "execution_count": null,
   "metadata": {
    "collapsed": false
   },
   "outputs": [],
   "source": [
    "x = xs.pop()     # 移除列表末端元素\n",
    "print x, xs "
   ]
  },
  {
   "cell_type": "markdown",
   "metadata": {},
   "source": [
    "更多列表操作请参考以下网址(https://docs.python.org/2/tutorial/datastructures.html#more-on-lists)."
   ]
  },
  {
   "cell_type": "markdown",
   "metadata": {},
   "source": [
    "#### 切片(Slicing)\n",
    "\n",
    "为了同时获取列表中的多个元素，Python提供了一种简洁的语法去访问子列表，这就是切片。"
   ]
  },
  {
   "cell_type": "code",
   "execution_count": null,
   "metadata": {
    "collapsed": false
   },
   "outputs": [],
   "source": [
    "nums = range(5)    # range是内置的创建整型列表函数\n",
    "print nums         # 打印 \"[0, 1, 2, 3, 4]\"\n",
    "print nums[2:4]    # 获取索引2-4(排除)的子列表; 打印 \"[2, 3]\"\n",
    "print nums[2:]     # 获取索引2到末的子列表; 打印 \"[2, 3, 4]\"\n",
    "print nums[:2]     # 获取索引开始到2(排除)的子列表; 打印 \"[0, 1]\"\n",
    "print nums[:]      # 获取整个列表; 打印 [\"0, 1, 2, 3, 4]\"\n",
    "print nums[:-1]    # 切片也可以使用负号索引; 打印 [\"0, 1, 2, 3]\"\n",
    "nums[2:4] = ['s','we'] # 用新子列表替换指定索引列表中的子列表\n",
    "print nums         # 打印 \"[0, 1, s, we, 4]\""
   ]
  },
  {
   "cell_type": "markdown",
   "metadata": {},
   "source": [
    "#### 循环(Loops)\n",
    "我们可以这样遍历列表中的每一个元素："
   ]
  },
  {
   "cell_type": "code",
   "execution_count": null,
   "metadata": {
    "collapsed": false
   },
   "outputs": [],
   "source": [
    "animals = ['cat', 'dog', 'monkey']\n",
    "for animal in animals:\n",
    "    print animal"
   ]
  },
  {
   "cell_type": "markdown",
   "metadata": {},
   "source": [
    "如果想要在循环体内访问每个元素的指针，可以使用内置的枚举(enumerate)函数。注意：起始号0"
   ]
  },
  {
   "cell_type": "code",
   "execution_count": null,
   "metadata": {
    "collapsed": false
   },
   "outputs": [],
   "source": [
    "animals = ['cat', 'dog', 'monkey']\n",
    "for idx, animal in enumerate(animals):\n",
    "    print '#%d: %s' % (idx + 1, animal)"
   ]
  },
  {
   "cell_type": "markdown",
   "metadata": {},
   "source": [
    "#### 列表解析(List comprehensions):\n",
    "\n",
    "在编程的时候，我们常常想要将列表中的每一元素使用特定的表达式进行转换。下面是一个简单例子，将列表中的每个元素转换成它的平方。"
   ]
  },
  {
   "cell_type": "code",
   "execution_count": null,
   "metadata": {
    "collapsed": false
   },
   "outputs": [],
   "source": [
    "nums = [0, 1, 2, 3, 4]\n",
    "squares = []\n",
    "for x in nums:\n",
    "    squares.append(x ** 2)\n",
    "print squares"
   ]
  },
  {
   "cell_type": "markdown",
   "metadata": {},
   "source": [
    "你可以使用更简单的列表解析(list comprehension):"
   ]
  },
  {
   "cell_type": "code",
   "execution_count": null,
   "metadata": {
    "collapsed": false
   },
   "outputs": [],
   "source": [
    "nums = [0, 1, 2, 3, 4]\n",
    "squares = [x ** 2 for x in nums]\n",
    "print squares"
   ]
  },
  {
   "cell_type": "markdown",
   "metadata": {},
   "source": [
    "列表解析也可以包含条件语句:"
   ]
  },
  {
   "cell_type": "code",
   "execution_count": null,
   "metadata": {
    "collapsed": false
   },
   "outputs": [],
   "source": [
    "nums = [0, 1, 2, 3, 4]\n",
    "even_squares = [x ** 2 for x in nums if x % 2 == 0]\n",
    "print even_squares"
   ]
  },
  {
   "cell_type": "markdown",
   "metadata": {},
   "source": [
    "#### 字典（Dictionaries）\n",
    "\n",
    "字典用来储存（键, 值）对，这和Java中的Map差不多。你可以这样使用它："
   ]
  },
  {
   "cell_type": "code",
   "execution_count": null,
   "metadata": {
    "collapsed": false
   },
   "outputs": [],
   "source": [
    "d = {'cat': 'cute', 'dog': 'furry'}  # 为数据创建字典\n",
    "print d['cat']       # 从字典中获取词条(entry); 打印 \"cute\"\n",
    "print 'cat' in d     # 检查字典中是否有给定键值(key); 打印 \"True\""
   ]
  },
  {
   "cell_type": "code",
   "execution_count": null,
   "metadata": {
    "collapsed": false
   },
   "outputs": [],
   "source": [
    "d['fish'] = 'wet'    # 给定键值，创建词条\n",
    "print d['fish']      # 打印 \"wet\""
   ]
  },
  {
   "cell_type": "code",
   "execution_count": null,
   "metadata": {
    "collapsed": false
   },
   "outputs": [],
   "source": [
    "print d['monkey']  # KeyError: 'monkey' 键值没有在字典中"
   ]
  },
  {
   "cell_type": "code",
   "execution_count": null,
   "metadata": {
    "collapsed": false
   },
   "outputs": [],
   "source": [
    "print d.get('monkey', 'N/A')  # 获取字典中元素默认值; 打印 \"N/A\"\n",
    "print d.get('fish', 'N/A')    # 获取字典中元素默认值; 打印 \"wet\""
   ]
  },
  {
   "cell_type": "code",
   "execution_count": null,
   "metadata": {
    "collapsed": false
   },
   "outputs": [],
   "source": [
    "del d['fish']        # 从字典中移除元素\n",
    "print d.get('fish', 'N/A') # \"fish\" 不在是字典中的键值; 打印 \"N/A\""
   ]
  },
  {
   "cell_type": "markdown",
   "metadata": {},
   "source": [
    "字典的详细用法请参考以下网址：(https://docs.python.org/2/library/stdtypes.html#dict)."
   ]
  },
  {
   "cell_type": "markdown",
   "metadata": {},
   "source": [
    "迭代字典:"
   ]
  },
  {
   "cell_type": "code",
   "execution_count": null,
   "metadata": {
    "collapsed": false
   },
   "outputs": [],
   "source": [
    "d = {'人': 2, '猫': 4, '蜘蛛': 8}\n",
    "for animal in d:\n",
    "    legs = d[animal]\n",
    "    print ' %s 有 %d 腿' % (animal, legs)"
   ]
  },
  {
   "cell_type": "markdown",
   "metadata": {},
   "source": [
    "你也可以使用iteritems方法进行迭代:"
   ]
  },
  {
   "cell_type": "code",
   "execution_count": null,
   "metadata": {
    "collapsed": false
   },
   "outputs": [],
   "source": [
    "d = {'人': 2, '猫': 4, '蜘蛛': 8}\n",
    "for animal, legs in d.iteritems():\n",
    "    print ' %s 有 %d 腿' % (animal, legs)"
   ]
  },
  {
   "cell_type": "markdown",
   "metadata": {},
   "source": [
    "字典解析(Dictionary comprehensions): 和列表解析类似,字典解析允许你轻松的构造字典，例如："
   ]
  },
  {
   "cell_type": "code",
   "execution_count": null,
   "metadata": {
    "collapsed": false
   },
   "outputs": [],
   "source": [
    "nums = [0, 1, 2, 3, 4]\n",
    "even_num_to_square = {x: x ** 2 for x in nums if x % 2 == 0}\n",
    "print even_num_to_square"
   ]
  },
  {
   "cell_type": "markdown",
   "metadata": {},
   "source": [
    "#### 集合(Sets)"
   ]
  },
  {
   "cell_type": "markdown",
   "metadata": {},
   "source": [
    "集合存放着无序的不同元素，在python中，集合使用花括号表示，如果将一个序列转换为集合，那该序列的重复元素将会被剔除，并且原有的顺序也将被打散。例如："
   ]
  },
  {
   "cell_type": "code",
   "execution_count": null,
   "metadata": {
    "collapsed": false
   },
   "outputs": [],
   "source": [
    "animals = {'cat', 'dog'}\n",
    "print 'cat' in animals   # 检查是否元素在集合中; 打印 \"True\"\n",
    "print 'fish' in animals  # 打印 \"False\"\n"
   ]
  },
  {
   "cell_type": "code",
   "execution_count": null,
   "metadata": {
    "collapsed": false
   },
   "outputs": [],
   "source": [
    "animals.add('fish')      # 向集合中添加元素\n",
    "print 'fish' in animals\n",
    "print len(animals)       # 集合中的元素个数;"
   ]
  },
  {
   "cell_type": "code",
   "execution_count": null,
   "metadata": {
    "collapsed": false
   },
   "outputs": [],
   "source": [
    "animals.add('cat')       # 添加一个存在的元素进集合中，其没有变化。\n",
    "print len(animals)       \n",
    "animals.remove('cat')    # 从集合中移除一个元素\n",
    "print len(animals)       "
   ]
  },
  {
   "cell_type": "markdown",
   "metadata": {},
   "source": [
    "集合循环：虽然集合中的循环语法和列表中的一样，但由于集合是无序的，因此访问集合元素的时候，不能做关于顺序的假设："
   ]
  },
  {
   "cell_type": "code",
   "execution_count": null,
   "metadata": {
    "collapsed": false
   },
   "outputs": [],
   "source": [
    "animals = {'cat', 'dog', 'fish'}\n",
    "for idx, animal in enumerate(animals):\n",
    "    print '#%d: %s' % (idx + 1, animal)\n",
    "# 打印 \"#1: fish\", \"#2: dog\", \"#3: cat\""
   ]
  },
  {
   "cell_type": "markdown",
   "metadata": {},
   "source": [
    "集合解析(Set comprehensions)：和字典，列表一样，你可以很方便地使用集合解析构建集合："
   ]
  },
  {
   "cell_type": "code",
   "execution_count": null,
   "metadata": {
    "collapsed": false
   },
   "outputs": [],
   "source": [
    "from math import sqrt\n",
    "print {int(sqrt(x)) for x in range(30)}"
   ]
  },
  {
   "cell_type": "markdown",
   "metadata": {},
   "source": [
    "#### 元组(Tuples)"
   ]
  },
  {
   "cell_type": "markdown",
   "metadata": {},
   "source": [
    "元组是一个（不可改变）有序列表。元组和列表在很多方面都很相似，最大的不同在于，元组可以像字典一样使用键/值对，并且还可以作为集合的元素，而列表不行。例如："
   ]
  },
  {
   "cell_type": "code",
   "execution_count": null,
   "metadata": {
    "collapsed": false
   },
   "outputs": [],
   "source": [
    "d = {(x, x + 1): x for x in range(10)}  # 通过元组键值创建字典\n",
    "t = (5, 6)       # 创建元组 \n",
    "print type(t)\n",
    "print d[t]       \n",
    "print d[(1, 2)]"
   ]
  },
  {
   "cell_type": "code",
   "execution_count": null,
   "metadata": {
    "collapsed": false
   },
   "outputs": [],
   "source": [
    "t[0] = 1 # TypeError: 'tuple' object does not support item assignment"
   ]
  },
  {
   "cell_type": "markdown",
   "metadata": {},
   "source": [
    "### Functions\n",
    "Python使用关键词`def`来定义函数，例如："
   ]
  },
  {
   "cell_type": "code",
   "execution_count": null,
   "metadata": {
    "collapsed": false
   },
   "outputs": [],
   "source": [
    "def sign(x):\n",
    "    if x > 0:\n",
    "        return '正'\n",
    "    elif x < 0:\n",
    "        return '负'\n",
    "    else:\n",
    "        return '零'\n",
    "\n",
    "for x in [-1, 0, 1]:\n",
    "    print sign(x)"
   ]
  },
  {
   "cell_type": "markdown",
   "metadata": {},
   "source": [
    "我们也经常使用可选参数来定义函数，例如："
   ]
  },
  {
   "cell_type": "code",
   "execution_count": null,
   "metadata": {
    "collapsed": false
   },
   "outputs": [],
   "source": [
    "def hello(name, loud=False):\n",
    "    if loud:\n",
    "        print 'HELLO, %s' % name.upper()\n",
    "    else:\n",
    "        print 'Hello, %s!' % name\n",
    "\n",
    "hello('Bob')\n",
    "hello('Fred', loud=True)"
   ]
  },
  {
   "cell_type": "markdown",
   "metadata": {},
   "source": [
    "### 类(Classes)\n",
    "在python中，定义类的语法很直接："
   ]
  },
  {
   "cell_type": "code",
   "execution_count": null,
   "metadata": {
    "collapsed": false
   },
   "outputs": [],
   "source": [
    "class Greeter:\n",
    "\n",
    "    # 构造函数\n",
    "    def __init__(self, name):\n",
    "        self.name = name  # 创建一个变量实例\n",
    "\n",
    "    # 实例方法 \n",
    "    def greet(self, loud=False):\n",
    "        if loud:\n",
    "            print 'HELLO, %s!' % self.name.upper()\n",
    "        else:\n",
    "            print 'Hello, %s' % self.name\n",
    "\n",
    "g = Greeter('Fred')  # 创建一个Greeter类实例 \n",
    "g.greet()            # 调用实例方法; 打印 \"Hello, Fred\"\n",
    "g.greet(loud=True)   # 调用实例方法; 打印 \"HELLO, FRED!\""
   ]
  },
  {
   "cell_type": "markdown",
   "metadata": {},
   "source": [
    "## Numpy\n",
    "Numpy是Python中用于科学计算的核心库。其提供了高性能的多维数组对象，以及相关工具。其用法和MATLAB相似，详情请参考如下网址： (http://wiki.scipy.org/NumPy_for_Matlab_Users)"
   ]
  },
  {
   "cell_type": "markdown",
   "metadata": {},
   "source": [
    "要使用Numpy，首先要导入`numpy`包："
   ]
  },
  {
   "cell_type": "code",
   "execution_count": null,
   "metadata": {
    "collapsed": false
   },
   "outputs": [],
   "source": [
    "import numpy as np"
   ]
  },
  {
   "cell_type": "markdown",
   "metadata": {},
   "source": [
    "### 数组(Arrays)\n",
    "numpy数组是由相同数据类型组成的网格，其可以通过非负整型的元组访问。数组维度数量也被称为数组的秩或阶(rank)，数组的形状是一个由整型数构成的元组，描述数组不同维度上的大小。我们可以从python内嵌的列表中创建数组，然后利用方括号访问其中的元素："
   ]
  },
  {
   "cell_type": "code",
   "execution_count": null,
   "metadata": {
    "collapsed": false
   },
   "outputs": [],
   "source": [
    "a = np.array([1, 2, 3])  # 创建秩为1的数组\n",
    "print type(a), a.shape, a[0], a[1], a[2]\n",
    "a[0] = 5                 # 改变数组元素\n",
    "print a                  "
   ]
  },
  {
   "cell_type": "code",
   "execution_count": null,
   "metadata": {
    "collapsed": false
   },
   "outputs": [],
   "source": [
    "b = np.array([[1,2,3],[4,5,6]])   # 创建秩为2的数组\n",
    "print b"
   ]
  },
  {
   "cell_type": "code",
   "execution_count": null,
   "metadata": {
    "collapsed": false
   },
   "outputs": [],
   "source": [
    "print b.shape                   \n",
    "print b[0, 0], b[0, 1], b[1, 0]"
   ]
  },
  {
   "cell_type": "markdown",
   "metadata": {},
   "source": [
    "Numpy同样提供了大量的方法创建数组:"
   ]
  },
  {
   "cell_type": "code",
   "execution_count": null,
   "metadata": {
    "collapsed": false
   },
   "outputs": [],
   "source": [
    "a = np.zeros((2,2))  # 创建2*2的零矩阵\n",
    "print a"
   ]
  },
  {
   "cell_type": "code",
   "execution_count": null,
   "metadata": {
    "collapsed": false
   },
   "outputs": [],
   "source": [
    "b = np.ones((1,2))   # 创建各元素值为1的1*2矩阵\n",
    "print b"
   ]
  },
  {
   "cell_type": "code",
   "execution_count": null,
   "metadata": {
    "collapsed": false
   },
   "outputs": [],
   "source": [
    "c = np.full((2,2), 7,) # 创建各元素值为7的2*2矩阵\n",
    "print c "
   ]
  },
  {
   "cell_type": "code",
   "execution_count": null,
   "metadata": {
    "collapsed": false
   },
   "outputs": [],
   "source": [
    "d = np.eye(3)        # 创建3*3的单位矩阵\n",
    "print d"
   ]
  },
  {
   "cell_type": "code",
   "execution_count": null,
   "metadata": {
    "collapsed": false
   },
   "outputs": [],
   "source": [
    "e = np.random.random((3,3)) # 创建3*3的矩阵，使用随机数填充值\n",
    "print e"
   ]
  },
  {
   "cell_type": "markdown",
   "metadata": {},
   "source": [
    "### 数组索引\n",
    "切片：和Python列表类似，numpy数组可以使用切片语法。因为数组可以是多维的，所以你必须为每个维度指定好切片："
   ]
  },
  {
   "cell_type": "code",
   "execution_count": null,
   "metadata": {
    "collapsed": false
   },
   "outputs": [],
   "source": [
    "import numpy as np\n",
    "# 创建秩为2，形状为（3,4）的数组\n",
    "a = np.array([[1,2,3,4], [5,6,7,8], [9,10,11,12]])\n",
    "print a\n",
    "#取出第1行，2列开始的，形状为（2,2）的子数组\n",
    "# [[2 3]\n",
    "#  [6 7]]\n",
    "b = a[:2, 1:3]\n",
    "print b"
   ]
  },
  {
   "cell_type": "markdown",
   "metadata": {},
   "source": [
    "切取的子数组实际上是原数组的一份浅备份，因此修改子数组，原始数组也将受到修改，例如："
   ]
  },
  {
   "cell_type": "code",
   "execution_count": null,
   "metadata": {
    "collapsed": false
   },
   "outputs": [],
   "source": [
    "print '原始a:',a[0, 1]  \n",
    "b[0, 0] = 77    # b[0, 0] 和a[0, 1]共享同一内存\n",
    "print '修改b后的a：',a[0, 1] "
   ]
  },
  {
   "cell_type": "markdown",
   "metadata": {},
   "source": [
    "你也可以混合整数索引以及切片索引访问数组，但是，这会生成一个秩少于原始数组的子数组。注意：这和MATLAB处理的数组切片有些不同。"
   ]
  },
  {
   "cell_type": "code",
   "execution_count": null,
   "metadata": {
    "collapsed": false
   },
   "outputs": [],
   "source": [
    "# 创建形状（3,4）秩为2的numpy数组\n",
    "a = np.array([[1,2,3,4], [5,6,7,8], [9,10,11,12]])\n",
    "print a"
   ]
  },
  {
   "cell_type": "markdown",
   "metadata": {},
   "source": [
    "Numpy有两种数组切片方式：1.混合整数索引和切片，生成低秩子数组；2.仅使用切片，生成原始数组同秩的子数组。"
   ]
  },
  {
   "cell_type": "code",
   "execution_count": null,
   "metadata": {
    "collapsed": false
   },
   "outputs": [],
   "source": [
    "row_r1 = a[1, :]    # 秩为1，数组a的第二行子数组 \n",
    "row_r2 = a[1:2, :]  # 秩为2，数组a的第二行子数组 \n",
    "row_r3 = a[[1], :]  # 秩为2，数组a的第二行子数组\n",
    "print '秩为1：',row_r1, row_r1.shape \n",
    "print '秩为2：',row_r2, row_r2.shape\n",
    "print '秩为2：',row_r3, row_r3.shape"
   ]
  },
  {
   "cell_type": "code",
   "execution_count": null,
   "metadata": {
    "collapsed": false
   },
   "outputs": [],
   "source": [
    "# 作用在列上同样适用:\n",
    "col_r1 = a[:, 1] # 秩为1，数组a的第二列子数组\n",
    "col_r2 = a[:, 1:2] # 秩为2，数组a的第二列子数组\n",
    "print '秩为1：',col_r1, col_r1.shape\n",
    "print '秩为2：'\n",
    "print col_r2, col_r2.shape"
   ]
  },
  {
   "cell_type": "markdown",
   "metadata": {},
   "source": [
    "整型数组索引：当我们使用切片索引数组时，得到的总是原数组的子数组。整型数组索引允许我们利用其它数组中的数据构建一个新的数组。例如："
   ]
  },
  {
   "cell_type": "code",
   "execution_count": null,
   "metadata": {
    "collapsed": false
   },
   "outputs": [],
   "source": [
    "a = np.array([[1,2], [3, 4], [5, 6]])\n",
    "\n",
    "# 整型数组索引示例。\n",
    "# 返回的数组形状为(3,)\n",
    "print a[[0, 1, 2], [0, 1, 0]]\n",
    "\n",
    "# 上述整型数组索引相等于下列索引:\n",
    "print np.array([a[0, 0], a[1, 1], a[2, 0]])"
   ]
  },
  {
   "cell_type": "code",
   "execution_count": null,
   "metadata": {
    "collapsed": false
   },
   "outputs": [],
   "source": [
    "#当使用整型数组索引时，你可以重复索引同一个数组元素：\n",
    "print a[[0, 0], [1, 1]]\n",
    "\n",
    "# 上述整型数组索引相等于下列索引：\n",
    "print np.array([a[0, 1], a[0, 1]])"
   ]
  },
  {
   "cell_type": "markdown",
   "metadata": {},
   "source": [
    "整型数组索引的一个小技巧是从矩阵的每一行中选择或改变元素："
   ]
  },
  {
   "cell_type": "code",
   "execution_count": null,
   "metadata": {
    "collapsed": false
   },
   "outputs": [],
   "source": [
    "# 创建新数组用于选择元素\n",
    "a = np.array([[1,2,3], [4,5,6], [7,8,9], [10, 11, 12]])\n",
    "print a\n",
    "# 创建数组索引。\n",
    "b = np.array([0, 2, 0, 1])\n",
    "print '使用数组[0, 2, 0, 1]索引矩阵a中的每一行'\n",
    "# 使用数组b中的索引选择矩阵a每一行中的特定元素。\n",
    "print a[np.arange(4), b]  # 打印 \"[ 1  6  7 11]\"\n",
    "\n",
    "#使用数组b中的索引改变矩阵a每一行中的特定元素。\n",
    "print '使用数组[0, 2, 0, 1]索引矩阵a中的每一行，将其加10'\n",
    "a[np.arange(4), b] += 10\n",
    "print a"
   ]
  },
  {
   "cell_type": "markdown",
   "metadata": {},
   "source": [
    "布尔型数组索引：布尔型索引让你任意挑选数组中的元素，这种类型索引频繁的用于条件语句下的元素选取。例如："
   ]
  },
  {
   "cell_type": "code",
   "execution_count": null,
   "metadata": {
    "collapsed": false
   },
   "outputs": [],
   "source": [
    "import numpy as np\n",
    "a = np.array([[1,2], [3, 4], [5, 1]])\n",
    "print a\n",
    "bool_idx = (a > 2)  \n",
    "# 寻找大于2的数组元素，返回相同形状的布尔型数组，其每个元素为a > 2的布尔值\n",
    "print bool_idx"
   ]
  },
  {
   "cell_type": "code",
   "execution_count": null,
   "metadata": {
    "collapsed": false
   },
   "outputs": [],
   "source": [
    "# 我们可以使用布尔数组索引去构造一个秩为1的数组，其元素与布尔数组的真值相对应。\n",
    "print a[bool_idx]\n",
    "\n",
    "# 我们也可以将上述内容简洁的用一行语句表达：\n",
    "print a[a > 2]"
   ]
  },
  {
   "cell_type": "markdown",
   "metadata": {},
   "source": [
    "### 数据类型(Datatypes)"
   ]
  },
  {
   "cell_type": "markdown",
   "metadata": {},
   "source": [
    "Numpy提供了大量的数据类型去构造数组，Numpy会尝试猜测你创建的数组的数据类型，但构造函数的数组通常也会可选择的显式指明其数据类型。例如："
   ]
  },
  {
   "cell_type": "code",
   "execution_count": null,
   "metadata": {
    "collapsed": false
   },
   "outputs": [],
   "source": [
    "x = np.array([1, 2])  # 让numpy自己选择数据类型\n",
    "y = np.array([1.0, 2.0])  # 让numpy自己选择数据类型\n",
    "z = np.array([1, 2], dtype=np.int64)  # 显式的规定数据类型\n",
    "\n",
    "print x.dtype, y.dtype, z.dtype"
   ]
  },
  {
   "cell_type": "markdown",
   "metadata": {},
   "source": [
    "详细的数据类型说明，可参考如下网址： (http://docs.scipy.org/doc/numpy/reference/arrays.dtypes.html)."
   ]
  },
  {
   "cell_type": "markdown",
   "metadata": {},
   "source": [
    "### 数组数学运算 "
   ]
  },
  {
   "cell_type": "markdown",
   "metadata": {},
   "source": [
    "数组中基本的数学运算操作是按数组元素进行的，并且重载操作以及函数都可以使用："
   ]
  },
  {
   "cell_type": "code",
   "execution_count": null,
   "metadata": {
    "collapsed": false
   },
   "outputs": [],
   "source": [
    "x = np.array([[1,2],[3,4]], dtype=np.float64)\n",
    "y = np.array([[5,6],[7,8]], dtype=np.float64)\n",
    "\n",
    "# 按元素求和；两种方式都可以使用；\n",
    "print x + y\n",
    "print np.add(x, y)"
   ]
  },
  {
   "cell_type": "code",
   "execution_count": null,
   "metadata": {
    "collapsed": false
   },
   "outputs": [],
   "source": [
    "# 按元素相减；\n",
    "print x - y\n",
    "print np.subtract(x, y)"
   ]
  },
  {
   "cell_type": "code",
   "execution_count": null,
   "metadata": {
    "collapsed": false
   },
   "outputs": [],
   "source": [
    "# 按元素乘；\n",
    "print x * y\n",
    "print np.multiply(x, y)"
   ]
  },
  {
   "cell_type": "code",
   "execution_count": null,
   "metadata": {
    "collapsed": false
   },
   "outputs": [],
   "source": [
    "# 按元素除\n",
    "# [[ 0.2         0.33333333]\n",
    "#  [ 0.42857143  0.5       ]]\n",
    "print x / y\n",
    "print np.divide(x, y)"
   ]
  },
  {
   "cell_type": "code",
   "execution_count": null,
   "metadata": {
    "collapsed": false
   },
   "outputs": [],
   "source": [
    "# 按元素取平方根；\n",
    "# [[ 1.          1.41421356]\n",
    "#  [ 1.73205081  2.        ]]\n",
    "print np.sqrt(x)"
   ]
  },
  {
   "cell_type": "markdown",
   "metadata": {},
   "source": [
    "注意：和MATLAB不同，`*`在numpy中是按元素乘，而在MATLAB中是矩阵乘。在numpy中我们使用dot函数计算向量内积(点积)，矩阵乘矩阵，以及矩阵乘向量等操作。dot可以当作函数在numpy中使用，也可作为数组对象的实例方法："
   ]
  },
  {
   "cell_type": "code",
   "execution_count": null,
   "metadata": {
    "collapsed": false
   },
   "outputs": [],
   "source": [
    "x = np.array([[1,2],[3,4]])\n",
    "y = np.array([[5,6],[7,8]])\n",
    "\n",
    "v = np.array([9,10])\n",
    "w = np.array([11, 12])\n",
    "\n",
    "# 向量内积；都将生成219\n",
    "print v.dot(w)\n",
    "print np.dot(v, w)"
   ]
  },
  {
   "cell_type": "code",
   "execution_count": null,
   "metadata": {
    "collapsed": false
   },
   "outputs": [],
   "source": [
    "# 矩阵 / 向量乘积; 都将生成秩为1的数组[29 67]。\n",
    "print x.dot(v)\n",
    "print np.dot(x, v)"
   ]
  },
  {
   "cell_type": "code",
   "execution_count": null,
   "metadata": {
    "collapsed": false
   },
   "outputs": [],
   "source": [
    "# 矩阵 / 矩阵乘积;都将生成秩为2的数组\n",
    "# [[19 22]\n",
    "#  [43 50]]\n",
    "print x.dot(y)\n",
    "print np.dot(x, y)"
   ]
  },
  {
   "cell_type": "markdown",
   "metadata": {},
   "source": [
    "Numpy还提供了许多有用的数组计算函数；其中最常用的是 `sum` 函数："
   ]
  },
  {
   "cell_type": "code",
   "execution_count": null,
   "metadata": {
    "collapsed": false
   },
   "outputs": [],
   "source": [
    "x = np.array([[1,2],[3,4]])\n",
    "\n",
    "print np.sum(x)  # 计算所有元素的累加和；打印 \"10\"\n",
    "print np.sum(x, axis=0)  # 计算每一列的累加和；打印\"[4 6]\"\n",
    "print np.sum(x, axis=1)  # 计算每一行的累加和；打印\"[3 7]\""
   ]
  },
  {
   "cell_type": "markdown",
   "metadata": {},
   "source": [
    "更多numpy的数学函数参见如下网址：(http://docs.scipy.org/doc/numpy/reference/routines.math.html).\n",
    "\n",
    "除了使用数组进行数学计算，我们还频繁的使用reshape或者其他方法操纵数组数据。例如：要转置一个矩阵，简单的使用数组对象的T属性即可："
   ]
  },
  {
   "cell_type": "code",
   "execution_count": null,
   "metadata": {
    "collapsed": false
   },
   "outputs": [],
   "source": [
    "print x\n",
    "print x.T"
   ]
  },
  {
   "cell_type": "code",
   "execution_count": null,
   "metadata": {
    "collapsed": false
   },
   "outputs": [],
   "source": [
    "v = np.array([[1,2,3]])\n",
    "print v \n",
    "print v.T"
   ]
  },
  {
   "cell_type": "markdown",
   "metadata": {},
   "source": [
    "### 广播(Broadcasting)"
   ]
  },
  {
   "cell_type": "markdown",
   "metadata": {},
   "source": [
    "广播提供了强大的机制允许numpy在不同形状的数组中执行数学操作。我们经常会遇到小数组和大数组相乘的情况，比如图片数据矩阵与权重矩阵。使用广播机制将提高你的代码质量以及运算效率。\n",
    "\n",
    "例如，假设我们想在矩阵的每一行中都加上一个常数向量。我们可以这样做："
   ]
  },
  {
   "cell_type": "code",
   "execution_count": null,
   "metadata": {
    "collapsed": false
   },
   "outputs": [],
   "source": [
    "# 矩阵x的每一行加上向量v，将结果储存在矩阵y中。\n",
    "x = np.array([[1,2,3], [4,5,6], [7,8,9], [10, 11, 12]])\n",
    "v = np.array([1, 0, 1])\n",
    "y = np.empty_like(x)   # 创建一个和x形状相同的空矩阵。\n",
    "\n",
    "# 使用显式循环完成上述操作。\n",
    "for i in range(4):\n",
    "    y[i, :] = x[i, :] + v\n",
    "\n",
    "print y"
   ]
  },
  {
   "cell_type": "markdown",
   "metadata": {},
   "source": [
    "这样做是有效的，但当矩阵`x`特别大时，在Python中计算显式循环就将变得非常缓慢。其实将向量`v`加到矩阵`x`的每一行相当于将向量`v`拷贝多次垂直堆叠成矩阵`vv`，然后对矩阵`x`与矩阵`vv`进行按元素求和。我们也可以这样实现该方法："
   ]
  },
  {
   "cell_type": "code",
   "execution_count": null,
   "metadata": {
    "collapsed": false
   },
   "outputs": [],
   "source": [
    "vv = np.tile(v, (4, 1))  # 拷贝4次向量v，然后将其堆叠起来。\n",
    "print vv                 # 打印   \"[[1 0 1]\n",
    "                         #          [1 0 1]\n",
    "                         #          [1 0 1]\n",
    "                         #          [1 0 1]]\""
   ]
  },
  {
   "cell_type": "code",
   "execution_count": null,
   "metadata": {
    "collapsed": false
   },
   "outputs": [],
   "source": [
    "y = x + vv  # 矩阵x和矩阵vv按元素相加\n",
    "print y"
   ]
  },
  {
   "cell_type": "markdown",
   "metadata": {},
   "source": [
    "Numpy广播机制允许我们不创建多次向量v备份的情况下执行该计算："
   ]
  },
  {
   "cell_type": "code",
   "execution_count": null,
   "metadata": {
    "collapsed": false
   },
   "outputs": [],
   "source": [
    "import numpy as np\n",
    "\n",
    "# 矩阵x的每一行加上向量v，将结果储存在矩阵y中。\n",
    "x = np.array([[1,2,3], [4,5,6], [7,8,9], [10, 11, 12]])\n",
    "v = np.array([1, 0, 1])\n",
    "y = x + v  # 使用广播将v加到矩阵的每一行上。\n",
    "print y"
   ]
  },
  {
   "cell_type": "markdown",
   "metadata": {},
   "source": [
    "由于广播机制的原因，即使`x`的形状为`(4, 3)`，`v` 的形状为`(3,)`，表达式`y = x + v`依然可以执行；这就好像将`v`拷贝重塑为`(4, 3)`的矩阵，然后进行按元素相加。\n",
    "对两个数组使用广播机制要遵守下列规则：\n",
    "\n",
    "1. 如果数组的秩不同，将秩较小的数组进行扩展，直到两个数组的尺寸长度都一样。\n",
    "2. 如果两个数组在某个维度上的长度是一样的，或者其中一个数组在该维度上长度为1，那么我们就说这两个数组在该维度上是相容的。\n",
    "3. 如果两个数组在所有维度上都是相容的，他们就能使用广播。\n",
    "4. 广播之后，两个数组的尺寸将和较大的数组尺寸一样。\n",
    "5. 在任何一个维度上，如果一个数组的长度为1，另一个数组长度大于1，那么在该维度上，就好像是对第一个数组进行了复制。\n",
    "\n",
    "\n",
    "如果感觉没有解释清楚，详细文档请参考以下网址：(http://docs.scipy.org/doc/numpy/user/basics.broadcasting.html) 或者更具体的解释(http://wiki.scipy.org/EricsBroadcastingDoc).\n",
    "\n",
    "支持广播机制的函数也被称为通用函数(universal functions)。你可以更具以下网址查看所有的通用函数 (http://docs.scipy.org/doc/numpy/reference/ufuncs.html#available-ufuncs).\n",
    "\n",
    "以下是广播一些应用："
   ]
  },
  {
   "cell_type": "code",
   "execution_count": null,
   "metadata": {
    "collapsed": false
   },
   "outputs": [],
   "source": [
    "#计算向量外积 \n",
    "v = np.array([1,2,3])  # v 形状(3,)\n",
    "w = np.array([4,5])    # w 形状 (2,)\n",
    "# 要计算外积，我们首先要重塑v为一列(3, 1)，\n",
    "# 然后将其与w(2,)相乘，输出一个形状为（3,2）的矩阵，其就是v与w的外积。\n",
    "print np.reshape(v, (3, 1)) * w"
   ]
  },
  {
   "cell_type": "code",
   "execution_count": null,
   "metadata": {
    "collapsed": false
   },
   "outputs": [],
   "source": [
    "# 将向量加到矩阵中的每一行\n",
    "x = np.array([[1,2,3], [4,5,6]])\n",
    "# x 形状(2, 3) ，v 形状(3,) ，广播之后的形状(2, 3),\n",
    "print x + v"
   ]
  },
  {
   "cell_type": "code",
   "execution_count": null,
   "metadata": {
    "collapsed": false
   },
   "outputs": [],
   "source": [
    "# 将向量加到矩阵的每一列\n",
    "# x 形状 (2, 3)，w 形状(2,).如果我们将x进行转置，那其形状就被重塑为(3, 2)，\n",
    "# 然后将其与w进行广播，就可以生成形状为（3,2）的矩阵；\n",
    "# 我们最后再将结果进行转置，就可以得到形状为（2,3）的矩阵；\n",
    "# 其结果就是将向量w加到矩阵x的每一列\n",
    "print (x.T + w).T"
   ]
  },
  {
   "cell_type": "code",
   "execution_count": null,
   "metadata": {
    "collapsed": false
   },
   "outputs": [],
   "source": [
    "#另一种更简单的方法是将w重塑为形状为（2,1）的行向量；\n",
    "#然后直接与x进行广播就可产生相同的结果\n",
    "#注意(2,)表示的是秩为1的向量，(2,1)表示的是秩为2的矩阵\n",
    "print x + np.reshape(w, (2, 1))"
   ]
  },
  {
   "cell_type": "code",
   "execution_count": null,
   "metadata": {
    "collapsed": false
   },
   "outputs": [],
   "source": [
    "# 矩阵各元素乘以一个常数:\n",
    "# x 形状(2, 3). Numpy 将标量作为数组（）;\n",
    "print x * 2"
   ]
  },
  {
   "cell_type": "markdown",
   "metadata": {},
   "source": [
    "广播使你的代码简洁而高效，因此你应该尽可能的使用广播操作。"
   ]
  },
  {
   "cell_type": "markdown",
   "metadata": {},
   "source": [
    "以上仅仅是一些numpy的重要用法，但其功能远不止这些。详细的文档请参考如下网址：(http://docs.scipy.org/doc/numpy/reference/) "
   ]
  },
  {
   "cell_type": "markdown",
   "metadata": {},
   "source": [
    "## Matplotlib"
   ]
  },
  {
   "cell_type": "markdown",
   "metadata": {},
   "source": [
    "Matplotlib是一个绘图工具库。下面我们简短的介绍下`matplotlib.pyplot` 模块，其用法和MATLAB相似。"
   ]
  },
  {
   "cell_type": "code",
   "execution_count": null,
   "metadata": {
    "collapsed": false
   },
   "outputs": [],
   "source": [
    "import matplotlib.pyplot as plt\n",
    "#使用以下IPython命令行，可以使得绘图结果嵌入到notebook中\n",
    "%matplotlib inline"
   ]
  },
  {
   "cell_type": "markdown",
   "metadata": {},
   "source": [
    "### 绘制(Plotting)\n",
    "`matplotlib`最重要的函数就是绘制函数plot,其允许你绘制2D数据。例如："
   ]
  },
  {
   "cell_type": "code",
   "execution_count": null,
   "metadata": {
    "collapsed": false
   },
   "outputs": [],
   "source": [
    "# 使用sin三角函数计算x与y的坐标点\n",
    "x = np.arange(0, 3 * np.pi, 0.1)\n",
    "y = np.sin(x)\n",
    "# 使用matplotlib绘制坐标点\n",
    "plt.plot(x, y)"
   ]
  },
  {
   "cell_type": "markdown",
   "metadata": {},
   "source": [
    "添加标题，说明，坐标轴标记到图表中："
   ]
  },
  {
   "cell_type": "code",
   "execution_count": null,
   "metadata": {
    "collapsed": false
   },
   "outputs": [],
   "source": [
    "x = np.arange(0, 3 * np.pi, 0.1)\n",
    "y_sin = np.sin(x)\n",
    "y_cos = np.cos(x)\n",
    "\n",
    "# 使用matplotlib绘制坐标点\n",
    "plt.plot(x, y_sin)\n",
    "plt.plot(x, y_cos)\n",
    "plt.xlabel('x axis label')\n",
    "plt.ylabel('y axis label')\n",
    "plt.title('Sine and Cosine')\n",
    "plt.legend(['Sine', 'Cosine'])"
   ]
  },
  {
   "cell_type": "markdown",
   "metadata": {},
   "source": [
    "### 子图(Subplots)\n",
    "你可以使用subplot函数在一副图中绘制不同的子图。例如："
   ]
  },
  {
   "cell_type": "code",
   "execution_count": null,
   "metadata": {
    "collapsed": false
   },
   "outputs": [],
   "source": [
    "# 使用sin以及cos函数计算x与y的坐标点\n",
    "x = np.arange(0, 3 * np.pi, 0.1)\n",
    "y_sin = np.sin(x)\n",
    "y_cos = np.cos(x)\n",
    "# 设置子图网格，其高为2，宽为1.\n",
    "# 设置使用第一张子图\n",
    "plt.subplot(2, 1, 1)\n",
    "# 绘制第一张子图\n",
    "plt.plot(x, y_sin)\n",
    "plt.title('Sine')\n",
    "# 设置使用第二张子图，并绘制。\n",
    "plt.subplot(2, 1, 2)\n",
    "plt.plot(x, y_cos)\n",
    "plt.title('Cosine')\n",
    "# 显示图表.\n",
    "plt.show()"
   ]
  },
  {
   "cell_type": "markdown",
   "metadata": {},
   "source": [
    "更多内容你可以参考如下网址：(http://matplotlib.org/api/pyplot_api.html#matplotlib.pyplot.subplot)."
   ]
  },
  {
   "cell_type": "code",
   "execution_count": null,
   "metadata": {
    "collapsed": false
   },
   "outputs": [],
   "source": [
    "import numpy as np\n",
    "from scipy.misc import imread, imresize\n",
    "import matplotlib.pyplot as plt\n",
    "\n",
    "img = imread('kitten.jpg')\n",
    "img_tinted = img * [1, 0.95, 0.6]\n",
    "\n",
    "# 显示原始图片\n",
    "plt.subplot(1, 2, 1)\n",
    "plt.imshow(img)\n",
    "\n",
    "# 显示着色后的图片\n",
    "plt.subplot(1, 2, 2)\n",
    "\n",
    "plt.imshow(np.uint8(img_tinted))\n",
    "plt.show()"
   ]
  },
  {
   "cell_type": "code",
   "execution_count": null,
   "metadata": {
    "collapsed": true
   },
   "outputs": [],
   "source": []
  }
 ],
 "metadata": {
  "anaconda-cloud": {},
  "kernelspec": {
   "display_name": "Python [default]",
   "language": "python",
   "name": "python2"
  },
  "language_info": {
   "codemirror_mode": {
    "name": "ipython",
    "version": 2
   },
   "file_extension": ".py",
   "mimetype": "text/x-python",
   "name": "python",
   "nbconvert_exporter": "python",
   "pygments_lexer": "ipython2",
   "version": "2.7.12"
  }
 },
 "nbformat": 4,
 "nbformat_minor": 0
}
