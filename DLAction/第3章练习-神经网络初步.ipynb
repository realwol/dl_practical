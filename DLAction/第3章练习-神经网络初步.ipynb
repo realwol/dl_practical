{
 "cells": [
  {
   "cell_type": "markdown",
   "metadata": {},
   "source": [
    "# 实现深层神经网络\n",
    "\n",
    "本章我们将编码完成全连接神经网络，并使用CIFAR-10数据集进行测试，在本章练习中我们将完成：\n",
    "- 1.仿射层传播\n",
    "- 2.ReLU层传播\n",
    "- 3.组合单层神经元\n",
    "- 4.实现浅层全连接神经网络\n",
    "- 5.实现深层全连接神经网络"
   ]
  },
  {
   "cell_type": "code",
   "execution_count": null,
   "metadata": {
    "collapsed": false
   },
   "outputs": [],
   "source": [
    "# -*- coding: utf-8 -*-\n",
    "import time\n",
    "import numpy as np\n",
    "import matplotlib.pyplot as plt\n",
    "from classifiers.chapter3 import *\n",
    "from utils import *\n",
    "\n",
    "%matplotlib inline\n",
    "plt.rcParams['figure.figsize'] = (10.0, 8.0) # 设置默认绘图尺寸\n",
    "plt.rcParams['image.interpolation'] = 'nearest'\n",
    "plt.rcParams['image.cmap'] = 'gray'\n",
    "\n",
    "%load_ext autoreload\n",
    "%autoreload 2\n",
    "\n",
    "def rel_error(x, y):\n",
    "  #计算相对错误\n",
    "  return np.max(np.abs(x - y) / (np.maximum(1e-8, np.abs(x) + np.abs(y))))"
   ]
  },
  {
   "cell_type": "code",
   "execution_count": null,
   "metadata": {
    "collapsed": false
   },
   "outputs": [],
   "source": [
    "# 将CIFAR10数据集的导入，切片，预处理操作进行封装\n",
    "\n",
    "data = get_CIFAR10_data()\n",
    "X_train =data['X_train']\n",
    "y_train =data['y_train']\n",
    "X_val = data['X_val']\n",
    "y_val = data['y_val']\n",
    "X_test = data['X_test']\n",
    "y_test = data['y_test']\n",
    "for k, v in data.iteritems():\n",
    "  print '%s: ' % k, v.shape\n"
   ]
  },
  {
   "cell_type": "markdown",
   "metadata": {},
   "source": [
    "## 仿射层前向传播\n",
    "\n",
    "打开 classifiers\\chapter3\\layers.py 实现affine_forward函数。\n",
    "\n",
    "当你完成了上述任务，运行下面代码进行测试：\n"
   ]
  },
  {
   "cell_type": "code",
   "execution_count": null,
   "metadata": {
    "collapsed": false
   },
   "outputs": [],
   "source": [
    "# 测试affine_forward 函数\n",
    "# np.linspaces，规定起点、终点（包含）、返回array的长度，返回一个两端点间数值平均分布的array。\n",
    "num_inputs = 2\n",
    "input_shape = (4, 5, 6)\n",
    "output_dim = 3\n",
    "\n",
    "input_size = num_inputs * np.prod(input_shape)\n",
    "weight_size = output_dim * np.prod(input_shape)\n",
    "\n",
    "x = np.linspace(-0.1, 0.5, num=input_size).reshape(num_inputs, *input_shape)\n",
    "w = np.linspace(-0.2, 0.3, num=weight_size).reshape(np.prod(input_shape), output_dim)\n",
    "b = np.linspace(-0.3, 0.1, num=output_dim)\n",
    "\n",
    "out, _ = affine_forward(x, w, b)\n",
    "correct_out = np.array([[ 1.49834967,  1.70660132,  1.91485297],\n",
    "                        [ 3.25553199,  3.5141327,   3.77273342]])\n",
    "\n",
    "# 比较你的实现结果和正确结果。该误差应该小于1e-9。\n",
    "print '测试 affine_forward 函数:'\n",
    "print '误差: ', rel_error(out, correct_out)"
   ]
  },
  {
   "cell_type": "markdown",
   "metadata": {},
   "source": [
    "## 仿射层反向传播\n",
    "\n",
    "实现 affine_backward 函数然后使用数值梯度检验你的实现。\n"
   ]
  },
  {
   "cell_type": "code",
   "execution_count": null,
   "metadata": {
    "collapsed": false
   },
   "outputs": [],
   "source": [
    "# 测试 affine_backward 函数\n",
    "from utils.gradient_check import *\n",
    "x = np.random.randn(10, 2, 3)\n",
    "w = np.random.randn(6, 5)\n",
    "b = np.random.randn(5)\n",
    "dout = np.random.randn(10, 5)\n",
    "\n",
    "dx_num = eval_numerical_gradient_array(lambda x: affine_forward(x, w, b)[0], x, dout)\n",
    "dw_num = eval_numerical_gradient_array(lambda w: affine_forward(x, w, b)[0], w, dout)\n",
    "db_num = eval_numerical_gradient_array(lambda b: affine_forward(x, w, b)[0], b, dout)\n",
    "\n",
    "_, cache = affine_forward(x, w, b)\n",
    "dx, dw, db = affine_backward(dout, cache)\n",
    "\n",
    "# 相对误差应该小于1e-10\n",
    "print '测试 affine_backward 函数:'\n",
    "print 'dx 误差: ', rel_error(dx_num, dx)\n",
    "print 'dw 误差: ', rel_error(dw_num, dw)\n",
    "print 'db 误差: ', rel_error(db_num, db)"
   ]
  },
  {
   "cell_type": "markdown",
   "metadata": {},
   "source": [
    "## ReLU层前向传播\n",
    "\n",
    "实现 relu_forward 激活函数的前向传播，并使用下列代码进行测试:\n"
   ]
  },
  {
   "cell_type": "code",
   "execution_count": null,
   "metadata": {
    "collapsed": false
   },
   "outputs": [],
   "source": [
    "# 测试relu_forward 函数\n",
    "\n",
    "x = np.linspace(-0.5, 0.5, num=12).reshape(3, 4)\n",
    "\n",
    "out, _ = relu_forward(x)\n",
    "correct_out = np.array([[ 0.,          0.,          0.,          0.,        ],\n",
    "                        [ 0.,          0.,          0.04545455,  0.13636364,],\n",
    "                        [ 0.22727273,  0.31818182,  0.40909091,  0.5,       ]])\n",
    "\n",
    "# 比较输出结果. 其误差大约为 1e-8\n",
    "print '测试 relu_forward 函数:'\n",
    "print '误差: ', rel_error(out, correct_out)"
   ]
  },
  {
   "cell_type": "markdown",
   "metadata": {},
   "source": [
    "## ReLU层反向传播\n",
    "\n",
    "实现 relu_backward函数并使用数值梯度进行检验：\n"
   ]
  },
  {
   "cell_type": "code",
   "execution_count": null,
   "metadata": {
    "collapsed": false
   },
   "outputs": [],
   "source": [
    "x = np.random.randn(10, 10)\n",
    "dout = np.random.randn(*x.shape)\n",
    "\n",
    "dx_num = eval_numerical_gradient_array(lambda x: relu_forward(x)[0], x, dout)\n",
    "\n",
    "_, cache = relu_forward(x)\n",
    "dx = relu_backward(dout, cache)\n",
    "\n",
    "# 其相对误差大约为1e-12\n",
    "print '测试 relu_backward 函数:'\n",
    "print 'dx 误差: ', rel_error(dx_num, dx)"
   ]
  },
  {
   "cell_type": "markdown",
   "metadata": {},
   "source": [
    "## 完整的神经元层\n",
    "\n",
    "接下来我们将上述的affine传播，和ReLU传播组合在一起，形成一层完整的神经元层。\n",
    "\n",
    "在你实现affine_relu_forward和affine_relu_backward函数之后，运行下面的代码进行梯度检验：\n",
    "\n"
   ]
  },
  {
   "cell_type": "code",
   "execution_count": null,
   "metadata": {
    "collapsed": false
   },
   "outputs": [],
   "source": [
    "#初始化。\n",
    "x = np.random.randn(2, 3, 4)\n",
    "w = np.random.randn(12, 10)\n",
    "b = np.random.randn(10)\n",
    "dout = np.random.randn(2, 10)\n",
    "#执行ReLU，获取分析梯度。\n",
    "out, cache = affine_relu_forward(x, w, b)\n",
    "dx, dw, db = affine_relu_backward(dout, cache)\n",
    "#获取数值梯度。\n",
    "dx_num = eval_numerical_gradient_array(lambda x: affine_relu_forward(x, w, b)[0], x, dout)\n",
    "dw_num = eval_numerical_gradient_array(lambda w: affine_relu_forward(x, w, b)[0], w, dout)\n",
    "db_num = eval_numerical_gradient_array(lambda b: affine_relu_forward(x, w, b)[0], b, dout)\n",
    "#比较相对误差。\n",
    "print '测试 ReLU神经元相对误差:'\n",
    "print 'dx 误差: ', rel_error(dx_num, dx)\n",
    "print 'dw 误差: ', rel_error(dw_num, dw)\n",
    "print 'db 误差: ', rel_error(db_num, db)"
   ]
  },
  {
   "cell_type": "markdown",
   "metadata": {},
   "source": [
    "## 输出层：Softmax\n",
    "\n",
    "上一章节我们已经实现的Softmax分类器，现在我们将其存放在chapter3\\layers.py文件中，直接使用即可。\n",
    "\n",
    "运行下列代码以确认我们的实现是正确的："
   ]
  },
  {
   "cell_type": "code",
   "execution_count": null,
   "metadata": {
    "collapsed": false
   },
   "outputs": [],
   "source": [
    "num_classes, num_inputs = 10, 50\n",
    "x = 0.001 * np.random.randn(num_inputs, num_classes)\n",
    "y = np.random.randint(num_classes, size=num_inputs)\n",
    "\n",
    "dx_num = eval_numerical_gradient(lambda x: softmax_loss(x, y)[0], x, verbose=False)\n",
    "loss, dx = softmax_loss(x, y)\n",
    "\n",
    "# 测试 softmax_loss 函数. 损失值大约为 2.3 dx 误差大约为 1e-8\n",
    "print '\\n测试 softmax_loss:'\n",
    "print 'loss: ', loss\n",
    "print 'dx error: ', rel_error(dx_num, dx)"
   ]
  },
  {
   "cell_type": "markdown",
   "metadata": {},
   "source": [
    "## 浅层神经网络\n",
    "\n",
    "现在我们将实现浅层全连接神经网络，打开chapter3\\shallow_layer_net.py文件，阅读内容完成相应任务后，执行下面代码进行验证。"
   ]
  },
  {
   "cell_type": "code",
   "execution_count": null,
   "metadata": {
    "collapsed": false
   },
   "outputs": [],
   "source": [
    "N, D, H, C = 3, 5, 50, 7\n",
    "X = np.random.randn(N, D)\n",
    "y = np.random.randint(C, size=N)\n",
    "\n",
    "std = 1e-2\n",
    "model = ShallowLayerNet(input_dim=D, hidden_dim=H, num_classes=C, weight_scale=std)\n",
    "\n",
    "print '测试初始化 ... '\n",
    "W1_std = abs(model.params['W1'].std() - std)\n",
    "b1 = model.params['b1']\n",
    "W2_std = abs(model.params['W2'].std() - std)\n",
    "b2 = model.params['b2']\n",
    "assert W1_std < std / 10, '第一层权重初始化有问题'\n",
    "assert np.all(b1 == 0), '第一层偏置初始化有问题'\n",
    "assert W2_std < std / 10, '第二层权重初始化有问题'\n",
    "assert np.all(b2 == 0), '第二层偏置初始化有问题'\n",
    "\n",
    "print '测试前向传播过程 ... '\n",
    "model.params['W1'] = np.linspace(-0.7, 0.3, num=D*H).reshape(D, H)\n",
    "model.params['b1'] = np.linspace(-0.1, 0.9, num=H)\n",
    "model.params['W2'] = np.linspace(-0.3, 0.4, num=H*C).reshape(H, C)\n",
    "model.params['b2'] = np.linspace(-0.9, 0.1, num=C)\n",
    "X = np.linspace(-5.5, 4.5, num=N*D).reshape(D, N).T\n",
    "scores = model.loss(X)\n",
    "correct_scores = np.asarray(\n",
    "  [[11.53165108,  12.2917344,   13.05181771,  13.81190102,  14.57198434, 15.33206765,  16.09215096],\n",
    "   [12.05769098,  12.74614105,  13.43459113,  14.1230412,   14.81149128, 15.49994135,  16.18839143],\n",
    "   [12.58373087,  13.20054771,  13.81736455,  14.43418138,  15.05099822, 15.66781506,  16.2846319 ]])\n",
    "scores_diff = np.abs(scores - correct_scores).sum()\n",
    "assert scores_diff < 1e-6, '前向传播有问题'\n",
    "\n",
    "print '测试训练损失(无正则化)'\n",
    "y = np.asarray([0, 5, 1])\n",
    "loss, grads = model.loss(X, y)\n",
    "correct_loss = 3.4702243556\n",
    "assert abs(loss - correct_loss) < 1e-10, '训练阶段的损失值(无正则化)有问题'\n",
    "\n",
    "print '测试训练损失(正则化0.1)'\n",
    "model.reg = 1.0\n",
    "loss, grads = model.loss(X, y)\n",
    "correct_loss = 26.5948426952\n",
    "assert abs(loss - correct_loss) < 1e-10, '训练阶段的损失值(有正则化)有问题'\n",
    "\n",
    "for reg in [0.0, 0.7]:\n",
    "  print '梯度检验，正则化系数 = ', reg\n",
    "  model.reg = reg\n",
    "  loss, grads = model.loss(X, y)\n",
    "\n",
    "  for name in sorted(grads):\n",
    "    f = lambda _: model.loss(X, y)[0]\n",
    "    grad_num = eval_numerical_gradient(f, model.params[name], verbose=False)\n",
    "    print '%s 相对误差: %.2e' % (name, rel_error(grad_num, grads[name]))"
   ]
  },
  {
   "cell_type": "markdown",
   "metadata": {
    "collapsed": false
   },
   "source": [
    "## 训练浅层全连接网络\n",
    "阅读 ShallowLayerNet.train()以及predict()函数，确保自己了解整个流程"
   ]
  },
  {
   "cell_type": "code",
   "execution_count": null,
   "metadata": {
    "collapsed": false,
    "scrolled": true
   },
   "outputs": [],
   "source": [
    "input_size = 32 * 32 * 3\n",
    "hidden_size = 100\n",
    "num_classes = 10\n",
    "net = ShallowLayerNet(input_size, hidden_size, num_classes)\n",
    "\n",
    "# 训练网络\n",
    "stats = net.train(X_train, y_train, X_val, y_val,\n",
    "            num_iters=2000, batch_size=500,\n",
    "            learning_rate=1e-3, learning_rate_decay=0.95,\n",
    "            reg=0.6, verbose=True)\n",
    "\n",
    "# 验证结果\n",
    "val_acc = (net.predict(X_val) == y_val).mean()\n",
    "print '最终验证正确率: ', val_acc\n",
    "print '历史最佳验证正确率: ', stats['best_val_acc']"
   ]
  },
  {
   "cell_type": "code",
   "execution_count": null,
   "metadata": {
    "collapsed": false,
    "scrolled": true
   },
   "outputs": [],
   "source": [
    "# 绘制损失函数变化曲线\n",
    "plt.subplot(2, 1, 1)\n",
    "plt.plot(stats['loss_history'])\n",
    "plt.title('Loss history')\n",
    "plt.xlabel('Iteration')\n",
    "plt.ylabel('Loss')\n",
    "\n",
    "plt.subplot(2, 1, 2)\n",
    "plt.plot(stats['train_acc_history'], label='train')\n",
    "plt.plot(stats['val_acc_history'], label='val')\n",
    "plt.plot([0.5] * len(stats['val_acc_history']), 'k--')\n",
    "plt.title('Classification accuracy history')\n",
    "plt.xlabel('Epoch')\n",
    "plt.ylabel('Clasification accuracy')\n",
    "plt.show()"
   ]
  },
  {
   "cell_type": "markdown",
   "metadata": {},
   "source": [
    "## 深层全连接网络\n",
    "\n",
    "接下来我们将实现深层的全连接网络，由于我们以及实现了浅层网络，深层网络的实现将变得很简单。\n",
    "\n",
    "打开chapter3\\fc_net.py，完成相应内容后，使用下面代码检验你实现的深层网络。\n",
    "\n"
   ]
  },
  {
   "cell_type": "code",
   "execution_count": null,
   "metadata": {
    "collapsed": false,
    "scrolled": true
   },
   "outputs": [],
   "source": [
    "N, D, H1, H2,H3, C = 2, 15, 20, 30, 20, 10\n",
    "X = np.random.randn(N, D)\n",
    "y = np.random.randint(C, size=(N,))\n",
    "\n",
    "for reg in [0, 0.11, 3.14]:\n",
    "  print '权重衰减系数= ', reg\n",
    "  model = FullyConnectedNet(input_dim=D,hidden_dims=[H1, H2,H3],num_classes=C,reg=reg, weight_scale=5e-2)\n",
    "\n",
    "  loss, grads = model.loss(X, y)\n",
    "  print '初始化化损失值: ', loss\n",
    "\n",
    "  for name in sorted(grads):\n",
    "    f = lambda _: model.loss(X, y)[0]\n",
    "    grad_num = eval_numerical_gradient(f, model.params[name], verbose=False, h=1e-5)\n",
    "    print '%s 相对误差: %.2e' % (name, rel_error(grad_num, grads[name]))"
   ]
  },
  {
   "cell_type": "code",
   "execution_count": null,
   "metadata": {
    "collapsed": false
   },
   "outputs": [],
   "source": [
    "#在小数据集上测试训练效果，正常情况下应该出现严重过拟合现象\n",
    "input_size = 32 * 32 * 3\n",
    "num_classes = 10\n",
    "num_train = 50\n",
    "\n",
    "X_train_small= X_train[:num_train]\n",
    "y_train_small= y_train[:num_train]\n",
    "w= 1e-1\n",
    "l = 1e-3\n",
    "net = FullyConnectedNet(input_size ,[100,100,100,100,100] , num_classes, weight_scale=w ,reg=0.6)\n",
    "# 训练网络\n",
    "stats = net.train(X_train_small, y_train_small, X_val, y_val,\n",
    "            num_iters=20, batch_size=25,\n",
    "            learning_rate=l, learning_rate_decay=0.95,\n",
    "            verbose=True)\n",
    "\n",
    "plt.subplot(2, 1, 1)\n",
    "plt.plot(stats['loss_history'],'o')\n",
    "plt.title('Loss history')\n",
    "plt.xlabel('Iteration')\n",
    "plt.ylabel('Loss')\n",
    "\n",
    "plt.subplot(2, 1, 2)\n",
    "plt.plot(stats['train_acc_history'], label='train')\n",
    "plt.plot(stats['val_acc_history'], label='val')\n",
    "plt.title('Classification accuracy history')\n",
    "plt.xlabel('Epoch')\n",
    "plt.ylabel('Clasification accuracy')\n",
    "plt.show()\n"
   ]
  },
  {
   "cell_type": "code",
   "execution_count": null,
   "metadata": {
    "collapsed": false
   },
   "outputs": [],
   "source": [
    "input_size = 32 * 32 * 3\n",
    "num_classes = 10\n",
    "net = FullyConnectedNet(input_size,[100,100],num_classes,reg=0.6,weight_scale=2e-2)\n",
    "# 训练网络\n",
    "stats = net.train(X_train, y_train, X_val, y_val,\n",
    "            num_iters=2000, batch_size=500,\n",
    "            learning_rate=8e-3, learning_rate_decay=0.95,\n",
    "            verbose=False)\n",
    "# 测试性能\n",
    "val_acc = (net.predict(X_val) == y_val).mean()\n",
    "print '验证精度: ', val_acc\n",
    "print '最佳验证精度: ', stats['best_val_acc']\n",
    "plt.subplot(2, 1, 1)\n",
    "plt.plot(stats['loss_history'],'o')\n",
    "plt.title('Loss history')\n",
    "plt.xlabel('Iteration')\n",
    "plt.ylabel('Loss')\n",
    "\n",
    "plt.subplot(2, 1, 2)\n",
    "plt.plot(stats['train_acc_history'], label='train')\n",
    "plt.plot(stats['val_acc_history'], label='val')\n",
    "plt.title('Classification accuracy history')\n",
    "plt.xlabel('Epoch')\n",
    "plt.ylabel('Clasification accuracy')\n",
    "plt.show()"
   ]
  },
  {
   "cell_type": "code",
   "execution_count": null,
   "metadata": {
    "collapsed": true
   },
   "outputs": [],
   "source": [
    "best_net =None\n",
    "##########################################################################\n",
    "#               任务：尽可能训练一个最佳的深层神经网络                   #\n",
    "##########################################################################\n",
    "\n",
    "\n",
    "##########################################################################\n",
    "#                      结束编码                                          #\n",
    "##########################################################################"
   ]
  },
  {
   "cell_type": "code",
   "execution_count": null,
   "metadata": {
    "collapsed": false
   },
   "outputs": [],
   "source": [
    "test_acc = (best_net.predict(X_test) ==y_test).mean()\n",
    "print 'Test accuracy: ', test_acc"
   ]
  },
  {
   "cell_type": "code",
   "execution_count": null,
   "metadata": {
    "collapsed": true
   },
   "outputs": [],
   "source": []
  },
  {
   "cell_type": "code",
   "execution_count": null,
   "metadata": {
    "collapsed": true
   },
   "outputs": [],
   "source": []
  },
  {
   "cell_type": "code",
   "execution_count": null,
   "metadata": {
    "collapsed": true
   },
   "outputs": [],
   "source": []
  }
 ],
 "metadata": {
  "anaconda-cloud": {},
  "kernelspec": {
   "display_name": "Python [default]",
   "language": "python",
   "name": "python2"
  },
  "language_info": {
   "codemirror_mode": {
    "name": "ipython",
    "version": 2
   },
   "file_extension": ".py",
   "mimetype": "text/x-python",
   "name": "python",
   "nbconvert_exporter": "python",
   "pygments_lexer": "ipython2",
   "version": "2.7.12"
  }
 },
 "nbformat": 4,
 "nbformat_minor": 1
}
